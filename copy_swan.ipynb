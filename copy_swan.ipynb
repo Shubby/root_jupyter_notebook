{
 "cells": [
  {
   "cell_type": "markdown",
   "id": "greenhouse-telling",
   "metadata": {},
   "source": [
    "Run this script if you are running on swan cluster (at CERN). It copies root data files in a directory. Run only once"
   ]
  },
  {
   "cell_type": "code",
   "execution_count": 1,
   "id": "fatal-rebecca",
   "metadata": {},
   "outputs": [
    {
     "name": "stdout",
     "output_type": "stream",
     "text": [
      "total 77\n",
      "drwx------. 2 sidoti 1307  4096 Jul 21 15:01 .\n",
      "drwx------. 2 sidoti 1307  4096 Jul 21 14:40 ..\n",
      "-rw-r--r--. 1 sidoti 1307  1371 Jul 21 15:01 copy_swan.ipynb\n",
      "-rw-r--r--. 1 sidoti 1307 10191 Jul 21 14:45 Exercise_Root_1.ipynb\n",
      "-rw-r--r--. 1 sidoti 1307 19016 Jul 21 14:40 Exercise_Root_2.ipynb\n",
      "-rw-r--r--. 1 sidoti 1307  7973 Jul 21 14:40 Exercise_Root_3.ipynb\n",
      "drwxr-xr-x. 2 sidoti 1307  4096 Jul 21 14:42 .git\n",
      "drwxr-xr-x. 2 sidoti 1307  4096 Jul 21 14:42 images\n",
      "drwxr-xr-x. 2 sidoti 1307  4096 Jul 21 14:42 plots\n",
      "drwxr-xr-x. 2 sidoti 1307  4096 Jul 21 14:42 style\n",
      "-rw-r--r--. 1 sidoti 1307     0 Jul 21 14:42 .swanproject\n",
      "drwx------. 2 sidoti 1307  4096 Jul 21 15:01 .sys.v#.copy_swan.ipynb\n",
      "drwx------. 2 sidoti 1307  4096 Jul 21 14:45 .sys.v#.Exercise_Root_1.ipynb\n",
      "drwx------. 2 sidoti 1307  4096 Jul 21 14:47 .sys.v#.Untitled.ipynb\n",
      "-rw-r--r--. 1 sidoti 1307   895 Jul 21 14:47 Untitled.ipynb\n",
      "-rw-r--r--. 1 sidoti 1307  1292 Jul 21 14:40 update_ntuples.sh\n",
      "total 117\n",
      "drwxr-xr-x. 2 sidoti 1307   4096 Jul 21 15:01 .\n",
      "drwxr-xr-x. 1 sidoti 1307   4096 Jul 21 15:01 ..\n",
      "-rw-r--r--. 1 sidoti 1307 111160 Jul 21 15:01 DataMuons_10000.root\n"
     ]
    },
    {
     "name": "stderr",
     "output_type": "stream",
     "text": [
      "  % Total    % Received % Xferd  Average Speed   Time    Time     Time  Current\n",
      "                                 Dload  Upload   Total   Spent    Left  Speed\n",
      "100  108k  100  108k    0     0  64740      0  0:00:01  0:00:01 --:--:-- 64740\n"
     ]
    }
   ],
   "source": [
    "%%bash\n",
    "ls -la\n",
    "mkdir -p ~/data/root_session/\n",
    "curl -o ~/data/root_session/DataMuons_10000.root \"https://owncloud.gwdg.de/index.php/s/D9ZVuGiTeU7K7j7/download?path=%2Froot_session&files=DataMuons_10000.root\"\n",
    "ls -la ~/data/root_session/"
   ]
  },
  {
   "cell_type": "code",
   "execution_count": 2,
   "id": "hindu-strike",
   "metadata": {},
   "outputs": [
    {
     "name": "stderr",
     "output_type": "stream",
     "text": [
      "  % Total    % Received % Xferd  Average Speed   Time    Time     Time  Current\n",
      "                                 Dload  Upload   Total   Spent    Left  Speed\n",
      "100  151k  100  151k    0     0  23970      0  0:00:06  0:00:06 --:--:-- 23967\n"
     ]
    }
   ],
   "source": [
    "%%bash\n",
    "curl -o ~/data/root_session/mc_147771.Zmumu_10000.root \"https://owncloud.gwdg.de/index.php/s/D9ZVuGiTeU7K7j7/download?path=%2Froot_session&files=mc_147771.Zmumu_10000.root\""
   ]
  },
  {
   "cell_type": "code",
   "execution_count": 4,
   "id": "under-lemon",
   "metadata": {},
   "outputs": [
    {
     "name": "stdout",
     "output_type": "stream",
     "text": [
      "total 269\n",
      "drwxr-xr-x. 2 sidoti 1307   4096 Jul 21 15:07 .\n",
      "drwxr-xr-x. 2 sidoti 1307   4096 Jul 21 15:01 ..\n",
      "-rw-r--r--. 1 sidoti 1307 111160 Jul 21 15:01 DataMuons_10000.root\n",
      "-rw-r--r--. 1 sidoti 1307 155332 Jul 21 15:07 mc_147771.Zmumu_10000.root\n"
     ]
    }
   ],
   "source": [
    "%%bash\n",
    "ls -la ~/data/root_session\n"
   ]
  },
  {
   "cell_type": "code",
   "execution_count": 6,
   "id": "described-poultry",
   "metadata": {},
   "outputs": [
    {
     "name": "stdout",
     "output_type": "stream",
     "text": [
      "Downloading 'DataMuons.root' into '~/data/root_session/'...\n",
      "Downloading 'mc_147771.Zmumu.root' into '~/data/root_session/'...\n"
     ]
    },
    {
     "name": "stderr",
     "output_type": "stream",
     "text": [
      "  % Total    % Received % Xferd  Average Speed   Time    Time     Time  Current\n",
      "                                 Dload  Upload   Total   Spent    Left  Speed\n",
      "100  591M  100  591M    0     0  28.6M      0  0:00:20  0:00:20 --:--:-- 29.4M\n",
      "  % Total    % Received % Xferd  Average Speed   Time    Time     Time  Current\n",
      "                                 Dload  Upload   Total   Spent    Left  Speed\n",
      "100  902M  100  902M    0     0  25.0M      0  0:00:36  0:00:36 --:--:-- 24.9M\n"
     ]
    }
   ],
   "source": [
    "%%bash\n",
    "echo \"Downloading 'DataMuons.root' into '~/data/root_session/'...\"\n",
    "curl -o ~/data/root_session/DataMuons.root \"https://owncloud.gwdg.de/index.php/s/D9ZVuGiTeU7K7j7/download?path=%2Froot_session&files=DataMuons.root\"\n",
    "echo \"Downloading 'mc_147771.Zmumu.root' into '~/data/root_session/'...\"\n",
    "curl -o ~/data/root_session/mc_147771.Zmumu.root \"https://owncloud.gwdg.de/index.php/s/D9ZVuGiTeU7K7j7/download?path=%2Froot_session&files=mc_147771.Zmumu.root\"\n",
    "\n"
   ]
  },
  {
   "cell_type": "code",
   "execution_count": 7,
   "id": "mounted-practice",
   "metadata": {},
   "outputs": [
    {
     "name": "stdout",
     "output_type": "stream",
     "text": [
      "total 1529725\n",
      "drwxr-xr-x. 1 sidoti 1307      4096 Jul 21 15:38 .\n",
      "drwxr-xr-x. 2 sidoti 1307      4096 Jul 21 15:01 ..\n",
      "-rw-r--r--. 1 sidoti 1307    111160 Jul 21 15:01 DataMuons_10000.root\n",
      "-rw-r--r--. 1 sidoti 1307 619800948 Jul 21 15:37 DataMuons.root\n",
      "-rw-r--r--. 1 sidoti 1307    155332 Jul 21 15:07 mc_147771.Zmumu_10000.root\n",
      "-rw-r--r--. 1 sidoti 1307 946361551 Jul 21 15:38 mc_147771.Zmumu.root\n"
     ]
    }
   ],
   "source": [
    "%%bash\n",
    "ls -la ~/data/root_session"
   ]
  },
  {
   "cell_type": "code",
   "execution_count": null,
   "id": "varied-reader",
   "metadata": {},
   "outputs": [],
   "source": []
  }
 ],
 "metadata": {
  "kernelspec": {
   "display_name": "Python 3",
   "language": "python",
   "name": "python3"
  },
  "language_info": {
   "codemirror_mode": {
    "name": "ipython",
    "version": 3
   },
   "file_extension": ".py",
   "mimetype": "text/x-python",
   "name": "python",
   "nbconvert_exporter": "python",
   "pygments_lexer": "ipython3",
   "version": "3.8.6"
  },
  "toc": {
   "base_numbering": 1,
   "nav_menu": {},
   "number_sections": true,
   "sideBar": true,
   "skip_h1_title": false,
   "title_cell": "Table of Contents",
   "title_sidebar": "Contents",
   "toc_cell": false,
   "toc_position": {},
   "toc_section_display": true,
   "toc_window_display": false
  }
 },
 "nbformat": 4,
 "nbformat_minor": 5
}
