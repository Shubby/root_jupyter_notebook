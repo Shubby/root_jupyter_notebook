{
 "cells": [
  {
   "cell_type": "markdown",
   "id": "b9b6c77d-7188-4081-ab1d-cb4feb55a91c",
   "metadata": {},
   "source": [
    "# Tutorial Part 2"
   ]
  },
  {
   "cell_type": "markdown",
   "id": "657da932-0b1d-436c-b508-6ca8a1fe6214",
   "metadata": {},
   "source": [
    "**Goal** Loop on the events in a file and do some plots with better quality\n",
    "\n",
    "The operations you can do with the Draw() function are quite limited. Let's produce an invariant mass plot. Root has many libraries to do special relativity calculations (`TLorentzVector`). Also produce an efficiency plot"
   ]
  },
  {
   "cell_type": "code",
   "execution_count": null,
   "id": "b6adf5d5-1007-4592-91c4-18b7df3362c0",
   "metadata": {},
   "outputs": [],
   "source": [
    "import ROOT\n",
    "from ROOT import TCanvas, TF1, TH1F, TTree\n"
   ]
  },
  {
   "cell_type": "code",
   "execution_count": null,
   "id": "21d71a16-c061-408b-9bd4-f789f2d3b664",
   "metadata": {},
   "outputs": [],
   "source": [
    "%jsroot on"
   ]
  },
  {
   "cell_type": "code",
   "execution_count": null,
   "id": "dedc6efd-713f-4643-be3b-de60e40ba847",
   "metadata": {},
   "outputs": [],
   "source": [
    "#f = ROOT.TFile(\"../../data/root_session/mc_147771.Zmumu.root\",\"\"READ)\n",
    "f = ROOT.TFile(\"~/data/root_session/mc_147771.Zmumu_10000.root\",\"READ\")\n",
    "t1 = f.mini"
   ]
  },
  {
   "cell_type": "markdown",
   "id": "8a145fd7-d5ad-4901-a2af-78c3354c8a58",
   "metadata": {},
   "source": [
    "For developing it is convenient to use the smaller file. <br>\n",
    "Note. To access the variables inside the TTree you have to use\n",
    "    `t1.name_of_the variable`"
   ]
  },
  {
   "cell_type": "markdown",
   "id": "4ff5ab4a-6ff3-4849-b2d8-12cbe33704fb",
   "metadata": {},
   "source": [
    "## Tips and Tricks\n",
    "You can save not only the contents of the ntuple in root format. You can also print directly the `TCanvas` you've produced in any format you want (png, jpg, svg, pdf, root, C. etc.) with a command like:\n",
    "    `c1.Print(\"file_name.pdf\")`\n",
    "    <br>\n",
    "For pdf files you can print multiple plots in multiple files with:\n",
    "    `c1.Print(\"file_name.pdf[\")`\n",
    "    <br>\n",
    "The last `TCanvas` you want to print you have to close the sequence with:\n",
    "    `cN.Print(\"file_name.pdf]\")`\n",
    "    "
   ]
  },
  {
   "cell_type": "code",
   "execution_count": null,
   "id": "916ab1ee-f5ed-4613-aece-430f3e47cfe2",
   "metadata": {},
   "outputs": [],
   "source": [
    "from ROOT import TLorentzVector\n",
    "c1 = ROOT.TCanvas(\"c1\",\"My Canvas\",400,400)\n",
    "\n",
    "h_mumu= TH1F(\"h_mumu\",\"Invariant mass\",50,50,150);\n",
    "N = t1.GetEntries()\n",
    "#t1.SetBranchStatus(\"*\",0)\n",
    "#t1.SetBranchStatus(\"lep_pt\",1)\n",
    "#t1.SetBranchStatus(\"lep_eta\",1)\n",
    "#t1.SetBranchStatus(\"lep_phi\",1)\n",
    "#t1.SetBranchStatus(\"lep_E\",1)\n",
    "num_evt = lambda  x: x if x<10000 else 10000\n",
    "print(\"Looping on \", num_evt(N), \" entries\")\n",
    "for i in range(num_evt(N)):\n",
    "    t1.GetEntry(i)\n",
    "\n",
    "    for ilep in range(t1.lep_n):\n",
    "        ivec = TLorentzVector()\n",
    "        ivec.SetPtEtaPhiE(t1.lep_pt[ilep],t1.lep_eta[ilep],t1.lep_phi[ilep],t1.lep_E[ilep])\n",
    "        for jlep in range(t1.lep_n):\n",
    "            if ilep==jlep:\n",
    "                continue\n",
    "            jvec = TLorentzVector()\n",
    "            jvec.SetPtEtaPhiE(t1.lep_pt[jlep],t1.lep_eta[jlep],t1.lep_phi[jlep],t1.lep_E[jlep])\n",
    "            inv_mass = (ivec+jvec).Mag()\n",
    "            h_mumu.Fill(inv_mass/1000.)\n",
    "\n",
    "\n",
    "\n",
    "c1.cd()\n",
    "h_mumu.Draw()\n",
    "c1.Draw()\n",
    "c1.Print(\"plots/my_zboson.pdf[\")"
   ]
  },
  {
   "cell_type": "markdown",
   "id": "b4cb86cd-6629-4c52-8d25-70b30783a21b",
   "metadata": {},
   "source": [
    "It looks a Z boson! great! But....\n",
    "<ul>\n",
    "    <li> Are we sure we are plotting invariant mass made with same flavor leptons ? (Hint: Look at variable lep_type) <\\li>\n",
    "        <li> Look at the tails. Do you see something strange? What is the problem? (Hint: look at the nested loop)<\\li>\n",
    "            <li> As you've learned this week, after detection of the particles produced in collisions, the system has to collect these collisions (trigger). (Hint: Look at trig_M and trig_E variables. These are variables that regcord the trigger decision. 1 --> event Accepted, 0 event discarded) <\\li>\n",
    "                <li> Again this is a MC file. There are some (hopefully small) differences wrt data. These are taken into account with the variables \"scaleFactors\" <\\li>\n",
    "                    <\\ul>"
   ]
  },
  {
   "cell_type": "markdown",
   "id": "5405599c-705e-4610-b89d-b98a29a33c88",
   "metadata": {},
   "source": [
    "## Exercise 1"
   ]
  },
  {
   "cell_type": "markdown",
   "id": "aa1bf7e4-fe9a-47dd-9ffb-3f76ee50526e",
   "metadata": {},
   "source": [
    "<ul>\n",
    "    <li> Modify the script above, run and save the histogram to a file. <\\li>\n",
    "    <li> Modify the script to take in account what we've just discussed and save the histogram to a different fill.\n",
    "Hint: You can fill a 1 dimensional histogram with a weight as a second argument <br>\n",
    "    h_mumu.Fill(inv_mass/1000.,weight)\n",
    "<\\li>\n",
    "<\\ul>    "
   ]
  },
  {
   "cell_type": "markdown",
   "id": "ec2ba4e3-adfe-4e33-9f27-cba7d178e2bb",
   "metadata": {},
   "source": [
    "Now open the two files and plot the same histogram. You have two posibilities.\n",
    "<ul>\n",
    "<li> on different pads <\\li>\n",
    "<li> on the same pad to evaluate the differences <\\li>\n",
    "<\\ul> \n",
    "<br>\n",
    "\n",
    "    \n",
    "Let's start with 1)"
   ]
  },
  {
   "cell_type": "code",
   "execution_count": null,
   "id": "b2f41115-311a-4a84-a140-7ca03e6bd800",
   "metadata": {},
   "outputs": [],
   "source": [
    "import ROOT\n",
    "%jsroot on"
   ]
  },
  {
   "cell_type": "code",
   "execution_count": null,
   "id": "71757708-9628-4508-be6c-54a91abb2580",
   "metadata": {},
   "outputs": [],
   "source": [
    "f1 = ROOT.TFile(\"plots/histo_datamuon.root\",\"READ\")\n",
    "f2 = ROOT.TFile(\"plots/histo_mczmumu.root\",\"READ\")\n",
    "h1=f1.Get(\"h_mumu\")\n",
    "h2=f2.Get(\"h_mumu\")\n",
    "c2 = ROOT.TCanvas(\"c2\",\"Splitted Canvas\",400,400)\n",
    "c2.Divide(1,2)\n",
    "c2.cd(1)\n",
    "h1.Draw()\n",
    "c2.cd(2)\n",
    "h2.Draw()\n",
    "c2.Draw()\n",
    "c2.Print(\"plots/my_zboson.pdf[\")"
   ]
  },
  {
   "cell_type": "markdown",
   "id": "0214e2ed-bd3a-407c-9707-6afe2897d362",
   "metadata": {},
   "source": [
    "Let's try to have nicer plots"
   ]
  },
  {
   "cell_type": "code",
   "execution_count": null,
   "id": "a3252c3a-a6d3-4eab-970c-a2ec9eac4295",
   "metadata": {},
   "outputs": [],
   "source": [
    "h1.SetStats(0)\n",
    "h2.SetStats(0)\n",
    "h1.SetLineWidth(3)\n",
    "h2.SetLineWidth(3)\n",
    "c2.Draw()\n",
    "c2.Print(\"plots/my_zboson.pdf[\")"
   ]
  },
  {
   "cell_type": "markdown",
   "id": "52eed4fd-8260-4c4a-ba3c-73ab136feb90",
   "metadata": {},
   "source": [
    "Now you can try to superimpose the two histograms"
   ]
  },
  {
   "cell_type": "code",
   "execution_count": null,
   "id": "827f5aa3-3f54-4086-83a5-bfc0eb902e3a",
   "metadata": {},
   "outputs": [],
   "source": [
    "c3 = ROOT.TCanvas(\"c3\",\"Superimposed Canvas\",400,400)\n",
    "h1.Draw(\"histo\")\n",
    "h2.Draw(\"p,same\")\n",
    "c3.Draw()\n",
    "c3.Print(\"plots/my_zboson.pdf[\")"
   ]
  },
  {
   "cell_type": "markdown",
   "id": "3fa7b4cb-d48b-46d2-bf58-2b7ba6acf91f",
   "metadata": {},
   "source": [
    "Are they comparable? Let's try to normalize to the same integral. You have different options."
   ]
  },
  {
   "cell_type": "code",
   "execution_count": null,
   "id": "53908884-44ee-4855-a204-474db1b3026c",
   "metadata": {},
   "outputs": [],
   "source": [
    "h1.Scale(h2.Integral()/h1.Integral())\n",
    "c4 = ROOT.TCanvas(\"c4\",\"Superimposed Canvas Norm\",400,400)\n",
    "h1.Draw(\"histo\")\n",
    "h2.Draw(\"p,same\")\n",
    "c4.Draw()\n",
    "c4.Print(\"plots/my_zboson.pdf[\")"
   ]
  },
  {
   "cell_type": "markdown",
   "id": "2c462b32-83d6-405c-91ec-4a0a83581acd",
   "metadata": {},
   "source": [
    "## Exercise 2"
   ]
  },
  {
   "cell_type": "markdown",
   "id": "d389512e-0d25-4183-8d98-febd064bfada",
   "metadata": {},
   "source": [
    "Run the modified (the one with the scale factors and trigger selections) script on the full MC file  \n",
    "   ../data/root_session/mc_147771.Zmumu.root\n",
    "and on the data file\n",
    "    ../data/root_session/DataMuons.root\n",
    "    <br>\n",
    "Save the histograms in two different files and plot them superimposed."
   ]
  },
  {
   "cell_type": "markdown",
   "id": "0d3c4d24-9333-4799-9eff-ee9e7046448b",
   "metadata": {},
   "source": [
    "Let's plot compare them with a ratio shown on a split panel <br>\n",
    "In ROOT you NEVER copy histograms. What you do is cloning them with Clone() method "
   ]
  },
  {
   "cell_type": "code",
   "execution_count": null,
   "id": "ad2c83fa-6dba-4d7a-a41a-d973561ff9aa",
   "metadata": {},
   "outputs": [],
   "source": [
    "ratio = h2.Clone()\n",
    "ratio.Divide(h1)\n",
    "ratio.SetLineColor(ROOT.kRed)\n",
    "c5 = ROOT.TCanvas(\"c5\",\"Splitted panel\",400,400)\n",
    "pad1 = ROOT.TPad(\"pad1\",\"pad1\" ,0 ,0.3 ,1 ,1)\n",
    "pad1.SetLogy(True)\n",
    "pad1.Draw()\n",
    "pad1.cd()\n",
    "h2.Draw (\"h\")\n",
    "h1.Draw(\"pe,same\")\n",
    "c5.Draw()\n",
    "c5.Print(\"plots/my_zboson.pdf[\")"
   ]
  },
  {
   "cell_type": "markdown",
   "id": "994d7e4a-a979-4af5-b69d-c4a48e2069aa",
   "metadata": {},
   "source": [
    "Now plot the splitted panel"
   ]
  },
  {
   "cell_type": "code",
   "execution_count": null,
   "id": "8f59aee8-9685-40b9-8c81-d9f1bd0ee8e3",
   "metadata": {},
   "outputs": [],
   "source": [
    "c5.cd()\n",
    "pad2= ROOT.TPad(\"pad2\",\"pad2\",0,0.05,1,0.3)\n",
    "pad2.Draw()\n",
    "pad2.cd()\n",
    "ratio.Draw(\"pe\")\n",
    "c5.Draw()"
   ]
  },
  {
   "cell_type": "markdown",
   "id": "82af1515-3d7e-4b11-b851-39c546406d95",
   "metadata": {},
   "source": [
    "Can be graphically improved\n",
    "First, remove the border spacing on the bottom of the top pad"
   ]
  },
  {
   "cell_type": "code",
   "execution_count": null,
   "id": "1896f897-5bd5-4356-89f1-433e22ad63da",
   "metadata": {},
   "outputs": [],
   "source": [
    "pad1.SetBottomMargin(0)"
   ]
  },
  {
   "cell_type": "markdown",
   "id": "3be25560-e0af-48da-a167-36451690fe79",
   "metadata": {},
   "source": [
    "Now, remove the border spacing on the top of the bottom pad. Also add a bit of extra space on the bottom of the top pad so that we have some space for later."
   ]
  },
  {
   "cell_type": "code",
   "execution_count": null,
   "id": "45ca832b-2df3-414a-9e12-455ac9c5aa47",
   "metadata": {},
   "outputs": [],
   "source": [
    "pad2.SetTopMargin(0)\n",
    "pad2.SetBottomMargin(0.25)"
   ]
  },
  {
   "cell_type": "markdown",
   "id": "d1b8ae37-31b3-48fa-8474-3559ed8a8f73",
   "metadata": {},
   "source": [
    "First, get rid of the x-axis labels on the top plot, this removing the random \u0002103 on the far right of the plot"
   ]
  },
  {
   "cell_type": "code",
   "execution_count": null,
   "id": "66b46849-310b-48a7-8f5a-c79f6ace97ed",
   "metadata": {},
   "outputs": [],
   "source": [
    "h1.SetTitle(\"\")\n",
    "h1.GetXaxis().SetLabelSize (0)\n",
    "h1.GetXaxis().SetTitleSize (0)"
   ]
  },
  {
   "cell_type": "markdown",
   "id": "19a3cc79-beae-467c-ba6b-7f30480c6268",
   "metadata": {},
   "source": [
    "Then increase the size of the y-axis label, which is necessary because the pad is only 70% of the full vertical\n",
    "range, so we need to increase the text size to get back to a reasonable value."
   ]
  },
  {
   "cell_type": "code",
   "execution_count": null,
   "id": "6e04cbc8-c43e-4378-bd1f-abba9d192ecc",
   "metadata": {},
   "outputs": [],
   "source": [
    "h1.GetYaxis().SetTitleSize(0.05)"
   ]
  },
  {
   "cell_type": "markdown",
   "id": "2417d7bc-5b17-4a0d-8405-4d1032ea6bb3",
   "metadata": {},
   "source": [
    "Now do the similar things to the bottom panel, also increasing the text sizes everywhere as this is now only\n",
    "30% of the full vertical range. Note that the title offset is changed at one point to bring the label closer to the\n",
    "axis (so it doesn't go off the canvas)."
   ]
  },
  {
   "cell_type": "code",
   "execution_count": null,
   "id": "a0bb216c-b582-4fd2-8e46-d8585cc64e69",
   "metadata": {},
   "outputs": [],
   "source": [
    "ratio.SetTitle(\"\")\n",
    "ratio.GetXaxis().SetLabelSize(0.12)\n",
    "ratio.GetXaxis().SetTitleSize(0.12)\n",
    "ratio.GetYaxis().SetLabelSize(0.1)\n",
    "ratio.GetYaxis().SetTitleSize(0.15)\n",
    "ratio.GetYaxis().SetTitle(\"Data/MC\")\n",
    "ratio.GetYaxis().SetTitleOffset(0.3)\n",
    "c5.Draw()"
   ]
  },
  {
   "cell_type": "code",
   "execution_count": null,
   "id": "a541e01e-477f-487c-9abc-04ab0db407e6",
   "metadata": {},
   "outputs": [],
   "source": [
    "ratio.GetYaxis().SetRangeUser(0.5,1.5)\n",
    "ratio.GetYaxis().SetNdivisions(207)\n",
    "line=ROOT.TLine(50,1,150,1)\n",
    "line.SetLineColor(ROOT.kBlack)\n",
    "line.SetLineWidth(2)\n",
    "line.Draw(\"same\")\n",
    "c5.Draw()"
   ]
  },
  {
   "cell_type": "markdown",
   "id": "a590fbe6-c39d-47f9-8926-d20e79515257",
   "metadata": {},
   "source": [
    "You  could add some legend to the plot"
   ]
  },
  {
   "cell_type": "code",
   "execution_count": null,
   "id": "88bfe04c-8c06-4cbc-a2e5-04ba11cd5503",
   "metadata": {},
   "outputs": [],
   "source": [
    "legend=ROOT.TLegend(0.7,0.6,0.85,0.75)\n",
    "legend.AddEntry(h1,\"MC\")\n",
    "legend.AddEntry(h2,\"Data\")\n",
    "legend.SetLineWidth(0)\n",
    "legend.Draw(\"same\")\n",
    "c5.Draw()"
   ]
  },
  {
   "cell_type": "markdown",
   "id": "c73d5228-ccb9-448a-8260-7195f52dec36",
   "metadata": {},
   "source": [
    "Finally, add some label."
   ]
  },
  {
   "cell_type": "code",
   "execution_count": null,
   "id": "4cac04d2-fe29-4c5c-861a-d75698f9066e",
   "metadata": {},
   "outputs": [],
   "source": [
    "latex=ROOT.TLatex()\n",
    "latex.SetNDC()\n",
    "latex.SetTextSize(0.06)\n",
    "latex.DrawText(0.7,0.83,\"HASCO 2021\")\n",
    "latex.SetTextSize(0.04)\n",
    "latex.DrawText(0.7,0.77, \"Di-muon events \")\n",
    "c5.Draw()\n",
    "c5.Print(\"plots/my_zboson.pdf]\")"
   ]
  },
  {
   "cell_type": "markdown",
   "id": "2d859dd1-7cab-4089-8082-4002eddc2e3a",
   "metadata": {},
   "source": [
    "Now let's do an efficiency plot."
   ]
  },
  {
   "cell_type": "markdown",
   "id": "ed3a3dda-d72c-4cc1-b07d-f66d8ee55080",
   "metadata": {},
   "source": [
    "## Exercise\n",
    "Use the modified script above and produce a denominator histogram and a numerator histogram after some selection. Ths efficiency is the ratio between these two histograms. <br>\n",
    "The selection is, for example, the fact that both leptons are \"trigger matched\". We want to measure the efficiency as a fucntion of the leading lepton pt <bt>\n",
    "** Hint:** lepton vectors are inversly ordered with momentum. So  `t1.lep_pt[0]` should be the largest one. Denominator and numerator plots are stored in `plots/my_zboson_out.root`\n"
   ]
  },
  {
   "cell_type": "code",
   "execution_count": null,
   "id": "91fe1428-6fc0-4f8c-a699-48799af18f8f",
   "metadata": {},
   "outputs": [],
   "source": [
    "f = ROOT.TFile(\"plots/my_zboson_out.root\",\"READ\")\n",
    "f.ls()"
   ]
  },
  {
   "cell_type": "code",
   "execution_count": null,
   "id": "85775d71-5e9d-4b00-929b-adc3fb7a4660",
   "metadata": {},
   "outputs": [],
   "source": [
    "c_eff = TCanvas(\"c_eff\",\"Efficiency\",400,400)\n",
    "c_eff.Divide(1,3)\n",
    "c_eff.cd(1)\n",
    "h_denum = f.h_mu_pt_denum\n",
    "h_denum.Draw(\"pe\")\n",
    "c_eff.cd(2)\n",
    "h_num = f.h_mu_pt_num\n",
    "h_num.Draw(\"pe\")\n",
    "c_eff.cd(3)\n",
    "h_eff = h_num.Clone()\n",
    "h_eff.Divide(h_denum)\n",
    "h_eff.Draw(\"pe\")\n",
    "c_eff.cd()\n",
    "c_eff.Draw()"
   ]
  },
  {
   "cell_type": "markdown",
   "id": "6a8d7e8b-1c02-458b-bcc3-271031a72911",
   "metadata": {},
   "source": [
    "What's wrong with the efficiency plot?"
   ]
  },
  {
   "cell_type": "markdown",
   "id": "5b5a1443-d89b-47e4-87b4-2ff32d727d9d",
   "metadata": {},
   "source": [
    "The best way is to fill `TEfficiency` while looping on the events [TEfficiency](https://root.cern.ch/doc/master/classTEfficiency.html). <br>"
   ]
  },
  {
   "cell_type": "markdown",
   "id": "a3e7aca8-a8ab-4359-a425-2393652a738d",
   "metadata": {},
   "source": [
    "Another (less correct way) is to use `TGraphAsymmErrors` [TGraphAsymmErrors](https://root.cern.ch/doc/master/classTGraphAsymmErrors.html) or construct [TEfficiency](https://root.cern.ch/doc/master/classTEfficiency.html) with numerator and denumerator histograms <br> "
   ]
  },
  {
   "cell_type": "code",
   "execution_count": null,
   "id": "839e3ae8-58ef-485b-9119-5fde71cc2d6b",
   "metadata": {},
   "outputs": [],
   "source": [
    "c_eff2 = TCanvas(\"c_eff2\",\"Efficiency TGA\",400,400)\n",
    "c_eff2.Divide(1,3)\n",
    "c_eff2.cd(1)\n",
    "h_denum = f.h_mu_pt_denum\n",
    "h_denum.Draw(\"pe\")\n",
    "c_eff2.cd(2)\n",
    "h_num = f.h_mu_pt_num\n",
    "h_num.Draw(\"pe\")\n",
    "c_eff2.cd(3)\n",
    "\n",
    "tga_eff = ROOT.TGraphAsymmErrors(h_num,h_denum)\n",
    "tga_eff.Draw(\"pe\")\n",
    "c_eff2.cd()\n",
    "c_eff2.Draw()"
   ]
  },
  {
   "cell_type": "code",
   "execution_count": null,
   "id": "ccecd986-2cdb-4a36-966b-2ebc9cf200b7",
   "metadata": {},
   "outputs": [],
   "source": [
    "c_eff3 = TCanvas(\"c_eff3\",\"Efficiency TEff\",400,400)\n",
    "c_eff3.Divide(1,3)\n",
    "c_eff3.cd(1)\n",
    "h_denum = f.h_mu_pt_denum\n",
    "h_denum.Draw(\"pe\")\n",
    "c_eff3.cd(2)\n",
    "h_num = f.h_mu_pt_num\n",
    "h_num.Draw(\"pe\")\n",
    "c_eff3.cd(3)\n",
    "\n",
    "eff_h = ROOT.TEfficiency(h_num,h_denum)\n",
    "eff_h.Draw(\"ap\")\n",
    "c_eff3.cd()\n",
    "c_eff3.Draw()"
   ]
  },
  {
   "cell_type": "code",
   "execution_count": null,
   "id": "b4421458-bf4a-4115-872e-8a5c1f126f86",
   "metadata": {},
   "outputs": [],
   "source": []
  }
 ],
 "metadata": {
  "kernelspec": {
   "display_name": "Python (ROOT)",
   "language": "python",
   "name": "root_conda_base"
  },
  "language_info": {
   "codemirror_mode": {
    "name": "ipython",
    "version": 3
   },
   "file_extension": ".py",
   "mimetype": "text/x-python",
   "name": "python",
   "nbconvert_exporter": "python",
   "pygments_lexer": "ipython3",
   "version": "3.9.6"
  }
 },
 "nbformat": 4,
 "nbformat_minor": 5
}
