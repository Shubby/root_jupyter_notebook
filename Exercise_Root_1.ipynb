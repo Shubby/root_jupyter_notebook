{
 "cells": [
  {
   "cell_type": "markdown",
   "id": "b9b6c77d-7188-4081-ab1d-cb4feb55a91c",
   "metadata": {},
   "source": [
    "# Tutorial Part 1"
   ]
  },
  {
   "cell_type": "markdown",
   "id": "657da932-0b1d-436c-b508-6ca8a1fe6214",
   "metadata": {
    "jupyter": {
     "source_hidden": true
    },
    "tags": []
   },
   "source": [
    "**Goal** Open a root file and inspect its contents (trees, variables, etc) Quickly plot some variables. Histograms\n",
    "\n",
    "First import ROOT stuff in your session "
   ]
  },
  {
   "cell_type": "code",
   "execution_count": null,
   "id": "b6adf5d5-1007-4592-91c4-18b7df3362c0",
   "metadata": {},
   "outputs": [],
   "source": [
    "import ROOT\n",
    "from ROOT import TCanvas, TF1\n"
   ]
  },
  {
   "cell_type": "markdown",
   "id": "042d5815-4e04-4884-98ee-df88e75613d2",
   "metadata": {},
   "source": [
    "some black magic to show canvas you've produced"
   ]
  },
  {
   "cell_type": "code",
   "execution_count": null,
   "id": "21d71a16-c061-408b-9bd4-f789f2d3b664",
   "metadata": {},
   "outputs": [],
   "source": [
    "%jsroot on"
   ]
  },
  {
   "cell_type": "markdown",
   "id": "771e70d2-f728-48c0-8c61-7452ef603003",
   "metadata": {},
   "source": [
    "Open the root file"
   ]
  },
  {
   "cell_type": "code",
   "execution_count": null,
   "id": "dedc6efd-713f-4643-be3b-de60e40ba847",
   "metadata": {},
   "outputs": [],
   "source": [
    "f = ROOT.TFile.Open(\"~/data/root_session/mc_147771.Zmumu.root\")"
   ]
  },
  {
   "cell_type": "markdown",
   "id": "8a145fd7-d5ad-4901-a2af-78c3354c8a58",
   "metadata": {},
   "source": [
    "Now you can inspect it. What is the content of this file? Usually you can visualize it with a TBrowser and you will see something like that. <br>\n",
    "\n",
    "![TBrowser TTree](images/tbrowser_mini_tree.png)\n",
    "But here it doesn't work. Instead we will use\n",
    "    `f.ls()`\n"
   ]
  },
  {
   "cell_type": "code",
   "execution_count": null,
   "id": "916ab1ee-f5ed-4613-aece-430f3e47cfe2",
   "metadata": {},
   "outputs": [],
   "source": [
    "f.ls()\n"
   ]
  },
  {
   "cell_type": "markdown",
   "id": "b4cb86cd-6629-4c52-8d25-70b30783a21b",
   "metadata": {},
   "source": [
    "What's in the file?\n",
    "Now access the TTree"
   ]
  },
  {
   "cell_type": "code",
   "execution_count": null,
   "id": "43545ed7-a1d8-4f22-a5de-8ef87b852e61",
   "metadata": {},
   "outputs": [],
   "source": [
    "t1=f.mini"
   ]
  },
  {
   "cell_type": "code",
   "execution_count": null,
   "id": "71757708-9628-4508-be6c-54a91abb2580",
   "metadata": {},
   "outputs": [],
   "source": [
    "t1.ls()"
   ]
  },
  {
   "cell_type": "markdown",
   "id": "52eed4fd-8260-4c4a-ba3c-73ab136feb90",
   "metadata": {},
   "source": [
    "Now look inside the variables"
   ]
  },
  {
   "cell_type": "code",
   "execution_count": null,
   "id": "827f5aa3-3f54-4086-83a5-bfc0eb902e3a",
   "metadata": {},
   "outputs": [],
   "source": [
    "t1.Print()"
   ]
  },
  {
   "cell_type": "markdown",
   "id": "3fa7b4cb-d48b-46d2-bf58-2b7ba6acf91f",
   "metadata": {},
   "source": [
    "What's the difference between vxp_z and eventNumber? What's the difference between jet_n and jet_E ?"
   ]
  },
  {
   "cell_type": "markdown",
   "id": "57d90f38-e2d3-4c60-9b93-cc78ed63890d",
   "metadata": {},
   "source": [
    "Try to understand what are these variables."
   ]
  },
  {
   "cell_type": "code",
   "execution_count": null,
   "id": "3fa2d35f-5ae0-4aa6-b0ce-51fa0a583d51",
   "metadata": {},
   "outputs": [],
   "source": [
    "t1.Scan(\"eventNumber:vxp_z:lep_n:lep_pt\",\"\",\"colsize=5 precision=3\",10)"
   ]
  },
  {
   "cell_type": "markdown",
   "id": "2c462b32-83d6-405c-91ec-4a0a83581acd",
   "metadata": {},
   "source": [
    "Or you can plot some of these variables"
   ]
  },
  {
   "cell_type": "code",
   "execution_count": null,
   "id": "3e93693a-e8fa-4aa5-9e86-40f888eb871f",
   "metadata": {},
   "outputs": [],
   "source": [
    "c1 = ROOT.TCanvas(\"c1\",\"My Canvas\",400,400)\n",
    "t1.Draw(\"lep_pt\")"
   ]
  },
  {
   "cell_type": "code",
   "execution_count": null,
   "id": "64dec8dc-7811-4131-8eb5-ef3d54ac1d63",
   "metadata": {},
   "outputs": [],
   "source": [
    "c1.Draw()"
   ]
  },
  {
   "cell_type": "markdown",
   "id": "5567baff-ff27-4f30-8035-9db45a0bc3f0",
   "metadata": {},
   "source": [
    "What units are used for the momentum? Is it a sensible histogram? What can I do to improve it? You can interact with your plot right clicking."
   ]
  },
  {
   "cell_type": "code",
   "execution_count": null,
   "id": "f71740d9-dc77-4c99-8741-5fc669418aee",
   "metadata": {},
   "outputs": [],
   "source": [
    "t1.Draw(\"lep_pt\",\"lep_pt<500000\")\n",
    "c1.Draw()"
   ]
  },
  {
   "cell_type": "markdown",
   "id": "619f6d40-0b3b-4d31-9bb1-7a586900955f",
   "metadata": {},
   "source": [
    "What's the difference with:"
   ]
  },
  {
   "cell_type": "markdown",
   "id": "5b85ed32-14ce-4c38-aae9-074d57a3203a",
   "metadata": {},
   "source": [
    "t1.Draw(\"lep_pt[1]\",\"lep_pt[1]<500000\")\n",
    "c1.Draw()"
   ]
  },
  {
   "cell_type": "markdown",
   "id": "d89061b2-9aa7-4b81-9b92-8f36e452634b",
   "metadata": {},
   "source": [
    "Let's produce a one dimensional histogram"
   ]
  },
  {
   "cell_type": "code",
   "execution_count": null,
   "id": "a541e01e-477f-487c-9abc-04ab0db407e6",
   "metadata": {},
   "outputs": [],
   "source": [
    "from ROOT import TH1F\n",
    "h1 = TH1F(\"h1\",\"Leading Lepton Pt\",100,0,100000)\n",
    "t1.Draw(\"lep_pt[0]>>h1\")\n",
    "h1.Draw()\n",
    "c1.Draw()"
   ]
  },
  {
   "cell_type": "markdown",
   "id": "a590fbe6-c39d-47f9-8926-d20e79515257",
   "metadata": {},
   "source": [
    "You can also do some \"simple arithmetics\" while plotting. For example, you want to change units in GeV from MeV."
   ]
  },
  {
   "cell_type": "code",
   "execution_count": null,
   "id": "88bfe04c-8c06-4cbc-a2e5-04ba11cd5503",
   "metadata": {},
   "outputs": [],
   "source": [
    "h2 = TH1F(\"h2\",\"Leading Lepton Pt in GeV\",100,0,100)\n",
    "t1.Draw(\"lep_pt[0]/10000>>h2\")\n",
    "h2.Draw()\n",
    "c1.Draw()"
   ]
  },
  {
   "cell_type": "markdown",
   "id": "cebd3357-a263-4948-9ad9-21a6928cc792",
   "metadata": {},
   "source": [
    "## Exercise"
   ]
  },
  {
   "cell_type": "markdown",
   "id": "fd38b9ee-e7bc-41cf-82d9-c5d350e0bbcf",
   "metadata": {},
   "source": [
    "Produce an histogram showing the transverse energy of all the jets (GeV units)"
   ]
  },
  {
   "cell_type": "markdown",
   "id": "f1d1d964-0eb6-4aa4-aa24-2933d0844964",
   "metadata": {},
   "source": [
    "## Saving and retrieving objects"
   ]
  },
  {
   "cell_type": "markdown",
   "id": "cf7b8ead-9f06-4513-8eba-ea7ce749db65",
   "metadata": {},
   "source": [
    "Histograms acne be printed, saved in various formats but it would be great if they can be saved in a file and retrieved later. Histograms and objects can be saved also with directories. "
   ]
  },
  {
   "cell_type": "code",
   "execution_count": null,
   "id": "6583b9d1-bcbc-4b80-8e29-b88f1405a382",
   "metadata": {},
   "outputs": [],
   "source": [
    "outputFile = ROOT.TFile(\"plots/output.root\", \"RECREATE\")\n",
    "h2.Write()\n",
    "outputFile.Close()"
   ]
  },
  {
   "cell_type": "markdown",
   "id": "38843cd5-0e03-499b-b510-4f8342f723a8",
   "metadata": {},
   "source": [
    "a new file appeared in the directory. \n",
    "Now retrieve the histogram from the file. With  `TBrowser` you would have seen something like that:\n",
    "![TBrowser TH1](images/histo_datamuon.png)\n",
    "<br>\n",
    "We will use\n",
    "    `my_file.ls()` as before"
   ]
  },
  {
   "cell_type": "code",
   "execution_count": null,
   "id": "aa166ce6-c5ef-4eea-9fa8-74c73e269daa",
   "metadata": {},
   "outputs": [],
   "source": [
    "my_file = ROOT.TFile(\"plots/output.root\",\"READ\")\n",
    "my_file.ls()"
   ]
  },
  {
   "cell_type": "code",
   "execution_count": null,
   "id": "12193876-3bd9-463e-b237-cddda15fcc5b",
   "metadata": {},
   "outputs": [],
   "source": [
    "h = my_file.h1\n",
    "h.Draw()\n",
    "c1.Draw()"
   ]
  },
  {
   "cell_type": "markdown",
   "id": "68f86863-71dd-43a4-9d9f-54c664954fe8",
   "metadata": {},
   "source": [
    "## How to save a subsample of the original file"
   ]
  },
  {
   "cell_type": "markdown",
   "id": "e4134e71-38b6-4dd8-bd6b-bb077e232fa7",
   "metadata": {},
   "source": [
    "The original root file that contains the event. Fo developing purposes (or because you are not interested in all the events) you might want to produce a lightweight ntuple by just selecting a subsample  of events. <bf>\n",
    "So what you have to do is to:\n",
    "<ol>\n",
    "        <li> open the original file</li> \n",
    "        <li> loop on the events </li>\n",
    "        <li> select some of them </li>\n",
    "        <li> write only selected events to the new file</li>\n",
    "</ol>"
   ]
  },
  {
   "cell_type": "code",
   "execution_count": null,
   "id": "0726cd88-c9d7-4ffe-8c55-91dd650a39fb",
   "metadata": {},
   "outputs": [],
   "source": [
    "nevt_out = 1000\n",
    "from ROOT import TFile, TTree\n",
    "my_random = ROOT.TRandom3()\n",
    "my_file =TFile(\"~/data/root_session/DataMuons.root\")\n",
    "my_tree = my_file.Get(\"mini\")\n",
    "nentries = my_tree.GetEntries()\n",
    "# activate all branches\n",
    "my_tree.SetBranchStatus(\"*\", 1)\n",
    "my_new_file =TFile(\"~/data/root_session/DataMuons_10000.root\", \"recreate\")\n",
    "newtree = my_tree.CloneTree(0)\n",
    "for i in range(0, nentries):\n",
    "# do something smaller\n",
    "#for i in range(0, nevt_out)\n",
    "    my_tree.GetEntry(i)\n",
    "    # doing something clever\n",
    "    if my_random.Rndm()<(nevt_out/nentries):\n",
    "        newtree.Fill()\n",
    "        \n",
    "\n",
    "newtree.Print()\n",
    "my_new_file.Write()\n",
    "my_new_file.ls()"
   ]
  },
  {
   "cell_type": "markdown",
   "id": "fb26894b-00ba-40e8-a7b9-5d5a2d67abd3",
   "metadata": {},
   "source": [
    "How many events do you have in the newer file? How many events the original file was containing? Is there another possibility to reduce the size of the file?"
   ]
  }
 ],
 "metadata": {
  "kernelspec": {
   "display_name": "Python (ROOT)",
   "language": "python",
   "name": "root_conda_base"
  },
  "language_info": {
   "codemirror_mode": {
    "name": "ipython",
    "version": 3
   },
   "file_extension": ".py",
   "mimetype": "text/x-python",
   "name": "python",
   "nbconvert_exporter": "python",
   "pygments_lexer": "ipython3",
   "version": "3.9.6"
  }
 },
 "nbformat": 4,
 "nbformat_minor": 5
}
