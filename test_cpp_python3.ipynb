{
 "cells": [
  {
   "cell_type": "code",
   "execution_count": null,
   "id": "141c543c-fb32-4782-b56b-bafac3157bd3",
   "metadata": {},
   "outputs": [],
   "source": [
    "import ROOT"
   ]
  },
  {
   "cell_type": "code",
   "execution_count": null,
   "id": "9a294727-a38e-4742-b0bb-306f92d2277c",
   "metadata": {},
   "outputs": [],
   "source": [
    "%jsroot on"
   ]
  },
  {
   "cell_type": "code",
   "execution_count": null,
   "id": "c4409a7f-6a9e-4c01-8c81-0333d1a2a3e8",
   "metadata": {},
   "outputs": [],
   "source": [
    "%%cpp\n",
    "auto myHisto = TH1F(\"h\",\"My Data; X; Y\", 64, -4,4)\n",
    "myHisto->FillRandom(\"gaus\",5000)\n",
    "TCanvas *c1 - new TCanvas(\"c1\",\"c1\",300,300)\n",
    "c1->cd()\n",
    "h->Draw()\n",
    "c1->Draw()"
   ]
  },
  {
   "cell_type": "code",
   "execution_count": null,
   "id": "23f14c9e-313d-474a-a306-5eaf01f1f0f2",
   "metadata": {},
   "outputs": [],
   "source": []
  }
 ],
 "metadata": {
  "kernelspec": {
   "display_name": "Python (ROOT)",
   "language": "python",
   "name": "root_conda_base"
  },
  "language_info": {
   "codemirror_mode": {
    "name": "ipython",
    "version": 3
   },
   "file_extension": ".py",
   "mimetype": "text/x-python",
   "name": "python",
   "nbconvert_exporter": "python",
   "pygments_lexer": "ipython3",
   "version": "3.9.6"
  }
 },
 "nbformat": 4,
 "nbformat_minor": 5
}
