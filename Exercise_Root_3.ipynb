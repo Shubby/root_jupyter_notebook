{
 "cells": [
  {
   "cell_type": "markdown",
   "id": "b9b6c77d-7188-4081-ab1d-cb4feb55a91c",
   "metadata": {},
   "source": [
    "# Tutorial Part 3"
   ]
  },
  {
   "cell_type": "markdown",
   "id": "657da932-0b1d-436c-b508-6ca8a1fe6214",
   "metadata": {},
   "source": [
    "**Goal** Fit hsitograms with different functions\n",
    "\n",
    "Clearly, the histogram you've just produced contains a Z boson. How to measure the mass of the resonance etc.?"
   ]
  },
  {
   "cell_type": "code",
   "execution_count": null,
   "id": "b6adf5d5-1007-4592-91c4-18b7df3362c0",
   "metadata": {},
   "outputs": [],
   "source": [
    "import ROOT\n",
    "from ROOT import TCanvas, TF1, TH1F, TTree, TFile\n",
    "%jsroot on"
   ]
  },
  {
   "cell_type": "markdown",
   "id": "c97fd2fa-90ca-49ce-b631-49be2205f46b",
   "metadata": {},
   "source": [
    "Open the histogram that contains the mumu invariant mass (for data)."
   ]
  },
  {
   "cell_type": "code",
   "execution_count": null,
   "id": "dedc6efd-713f-4643-be3b-de60e40ba847",
   "metadata": {},
   "outputs": [],
   "source": [
    "f = ROOT.TFile.Open(\"histo_datamuon.root\",\"READ\")\n",
    "f.ls()"
   ]
  },
  {
   "cell_type": "markdown",
   "id": "8a145fd7-d5ad-4901-a2af-78c3354c8a58",
   "metadata": {},
   "source": [
    "For developing it is convenient to use the smaller file. <br>\n",
    "Note. To access the variables inside the TTree you have to use\n",
    "    t1.name_of_the variable"
   ]
  },
  {
   "cell_type": "code",
   "execution_count": null,
   "id": "916ab1ee-f5ed-4613-aece-430f3e47cfe2",
   "metadata": {},
   "outputs": [],
   "source": [
    "h_mumu = f.h_mumu\n",
    "c1 = ROOT.TCanvas(\"c1\",\"My Canvas\",400,400)\n",
    "\n",
    "h_mumu.Draw(\"ep\")\n",
    "c1.Draw()"
   ]
  },
  {
   "cell_type": "markdown",
   "id": "b4cb86cd-6629-4c52-8d25-70b30783a21b",
   "metadata": {},
   "source": [
    "Display in semilogarithmic scale (y-axis). You can do rightclicking, or setting the gPad with semilog y axis\n",
    "Now let's fit in a very simple way"
   ]
  },
  {
   "cell_type": "code",
   "execution_count": null,
   "id": "3e3ca0fd-5e3a-4e0a-bc92-fc0221e6e2e1",
   "metadata": {},
   "outputs": [],
   "source": [
    "h_mumu.Fit(\"gaus\")\n",
    "c1.Draw()"
   ]
  },
  {
   "cell_type": "markdown",
   "id": "05c9223a-abb5-4a27-84fc-b83c9155d2a3",
   "metadata": {},
   "source": [
    "How the fit looks like? <br>You can read the fit parameters in the fit ouput. You may want to get them as variables in your script. <br>\n",
    "    `h_mumu.Fit(\"gaus\")` \n",
    "is actually a shortcut instead of using a `TF1`. In ROOT several functions are built in (gauss, expo, polX, etc.) If you want something more complicated you have to define your own function"
   ]
  },
  {
   "cell_type": "code",
   "execution_count": null,
   "id": "7c0f9dfc-b59f-4f66-9357-a07c9a6b2dab",
   "metadata": {},
   "outputs": [],
   "source": [
    "gaussFit = ROOT.TF1(\"gaussfit\",\"gaus\",81 ,101)\n",
    "h_mumu.Fit(\"gaussfit\")\n",
    "c1.Draw()"
   ]
  },
  {
   "cell_type": "code",
   "execution_count": null,
   "id": "6dfdfb43-7649-4494-91e6-8cda21f6ef1c",
   "metadata": {},
   "outputs": [],
   "source": [
    "chi2=gaussFit.GetChisquare()\n",
    "ndof=gaussFit.GetNDF()\n",
    "mean=gaussFit.GetParameter(1)\n",
    "width=gaussFit.GetParameter(0)\n",
    "e_mean=gaussFit.GetParError(1)\n",
    "e_width=gaussFit.GetParError(0)"
   ]
  },
  {
   "cell_type": "markdown",
   "id": "0743c9ba-00fc-4fc9-98e0-bd6535a32da7",
   "metadata": {},
   "source": [
    "You can print these quantities in the plot"
   ]
  },
  {
   "cell_type": "code",
   "execution_count": null,
   "id": "1da44e91-3930-4014-9d51-0b9b46776866",
   "metadata": {},
   "outputs": [],
   "source": [
    "latex=ROOT.TLatex()\n",
    "latex.SetNDC()\n",
    "latex.SetTextSize(0.03)\n",
    "latex.DrawText(0.5,0.80,\"Mean=%.1f GeV\"%(mean))\n",
    "latex.DrawText(0.5,0.75,\"Width=%.1f GeV\"%(width))\n",
    "latex.DrawText(0.5,0.7,\"chi2/ndof=%.1f/%d = %.1f\"%(chi2,ndof,chi2/ndof))\n",
    "c1.Draw()"
   ]
  },
  {
   "cell_type": "markdown",
   "id": "aa1bf7e4-fe9a-47dd-9ffb-3f76ee50526e",
   "metadata": {},
   "source": [
    "The fit is far from being perfect. In fact a resonance is not really described by a gaussian but by a Breit-Wigner distribution"
   ]
  },
  {
   "cell_type": "markdown",
   "id": "ec2ba4e3-adfe-4e33-9f27-cba7d178e2bb",
   "metadata": {},
   "source": [
    "![BreitWigner](images/breit_wigner.png)"
   ]
  },
  {
   "cell_type": "markdown",
   "id": "946574fb-7fb1-4bc1-83b5-b1ae356a023c",
   "metadata": {},
   "source": [
    "You have to write that as a TF1. When writing custom functions, `x` is the name of the variable, and `[#]` are the parameters that we want\n",
    "to fit. In other words, `[0]` is the first parameter, `[1]` is the second, and so on."
   ]
  },
  {
   "cell_type": "code",
   "execution_count": null,
   "id": "76f76bfe-de7d-4992-8d6a-3f70c28309b2",
   "metadata": {},
   "outputs": [],
   "source": [
    "bw_A = \"2*sqrt(2)*[0]*[1]*sqrt([0]*[0]*([0]*[0]+[1]*[1]))\"\n",
    "bw_B = \"3.14159*sqrt([0]*[0]+sqrt([0]*[0]*([0]*[0]+[1]*[1])))\"\n",
    "bw_C = \"(x*x-[0]*[0])*(x*x-[0]*[0])+[0]*[0]*[1]*[1]\"\n",
    "bw = \"[2]*((%s)/(%s))/(%s)\"%(bw_A,bw_B,bw_C)"
   ]
  },
  {
   "cell_type": "code",
   "execution_count": null,
   "id": "dd2e5f90-8230-461d-a68c-bbb9ff586060",
   "metadata": {},
   "outputs": [],
   "source": [
    "bwFit = ROOT.TF1(\"bwfit\",bw,50 ,150)\n",
    "h_mumu.Fit(\"bwfit\")\n",
    "c1.Draw()"
   ]
  },
  {
   "cell_type": "markdown",
   "id": "59e8c8ed-34be-42e2-8d29-9ec54fc127c2",
   "metadata": {},
   "source": [
    "It doesn't really work. We have to set some initial parameters. We know approximately what is M and Gamma (mass and width of Z-boson)"
   ]
  },
  {
   "cell_type": "code",
   "execution_count": null,
   "id": "a3c2d2bd-2ff7-4d53-89c0-e827104a4a70",
   "metadata": {},
   "outputs": [],
   "source": [
    "bwFit.SetParameter(0,90)\n",
    "bwFit.SetParameter(1,3)\n",
    "h_mumu.Fit(\"bwfit\",\"E\")\n",
    "c1.Draw()"
   ]
  },
  {
   "cell_type": "markdown",
   "id": "53013796-08b8-4ac2-938e-b7ca8e6364b6",
   "metadata": {},
   "source": [
    "## Exercise 1\n",
    "Write on the plot the fit parameters of the fit"
   ]
  },
  {
   "cell_type": "markdown",
   "id": "3fa7b4cb-d48b-46d2-bf58-2b7ba6acf91f",
   "metadata": {},
   "source": [
    "Now use the split-panel we've learned in part 2 to plot the ratio of the fit with data"
   ]
  },
  {
   "cell_type": "code",
   "execution_count": null,
   "id": "53908884-44ee-4855-a204-474db1b3026c",
   "metadata": {},
   "outputs": [],
   "source": [
    "c5 = ROOT.TCanvas(\"c5\",\"Splitted panel\",400,400)\n",
    "c5.cd()\n",
    "pad1 = ROOT.TPad(\"pad1\",\"pad1\" ,0 ,0.3 ,1 ,1)\n",
    "pad1.SetLogy(True)\n",
    "pad1.Draw()\n",
    "pad1.cd()\n",
    "h_mumu.Draw(\"pe\")\n",
    "c5.Draw()\n"
   ]
  },
  {
   "cell_type": "code",
   "execution_count": null,
   "id": "66d49cb4-175b-4e0c-b123-efb9ef3d0a1a",
   "metadata": {},
   "outputs": [],
   "source": [
    "ratio = h_mumu.Clone(\"ratio\")\n",
    "pad2= ROOT.TPad(\"pad2\",\"pad2\",0,0.05,1,0.3)\n",
    "pad2.Draw()\n",
    "pad2.cd()\n",
    "ratio.Divide(bwFit)\n",
    "ratio.Draw(\"pe\")\n",
    "c5.Draw()"
   ]
  },
  {
   "cell_type": "markdown",
   "id": "8beb645d-4d26-473d-b50a-09e736b2fa0c",
   "metadata": {},
   "source": [
    "## Exercise \n",
    "Make a nicer plot"
   ]
  }
 ],
 "metadata": {
  "kernelspec": {
   "display_name": "Python (ROOT)",
   "language": "python",
   "name": "root_conda_base"
  },
  "language_info": {
   "codemirror_mode": {
    "name": "ipython",
    "version": 3
   },
   "file_extension": ".py",
   "mimetype": "text/x-python",
   "name": "python",
   "nbconvert_exporter": "python",
   "pygments_lexer": "ipython3",
   "version": "3.9.6"
  }
 },
 "nbformat": 4,
 "nbformat_minor": 5
}
