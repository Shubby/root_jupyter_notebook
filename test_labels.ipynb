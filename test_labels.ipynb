{
 "cells": [
  {
   "cell_type": "code",
   "execution_count": null,
   "id": "7ce4c8f1-a9f8-43cc-9662-668cc9002e67",
   "metadata": {},
   "outputs": [],
   "source": [
    "import ROOT\n",
    "from ROOT import TCanvas, TF1, TH1F, TTree, TFile, TH1"
   ]
  },
  {
   "cell_type": "code",
   "execution_count": null,
   "id": "cc1a8592-c017-460b-b8bc-c9badc59457c",
   "metadata": {},
   "outputs": [],
   "source": [
    "%jsroot on"
   ]
  },
  {
   "cell_type": "code",
   "execution_count": null,
   "id": "a79ca599-08ec-460f-a044-a741ea75b4f0",
   "metadata": {},
   "outputs": [],
   "source": [
    "c1 = TCanvas(\"c1\",\"c1\",300,300)\n",
    "h1 = TH1F(\"myHist\",\"myTitile\", 64,-4,4)\n",
    "h1.FillRandom(\"gaus\",5000)\n",
    "h1.Draw()\n",
    "c1.Draw()"
   ]
  },
  {
   "cell_type": "code",
   "execution_count": null,
   "id": "e4f472b9-ebd3-46e7-8293-3489ea11f229",
   "metadata": {},
   "outputs": [],
   "source": [
    "from ROOT import *\n",
    "ROOT.gROOT.LoadMacro(\"style/AtlasStyle.C\")\n",
    "SetAtlasStyle()\n",
    "c2 = TCanvas(\"c2\",\"c2\",300,300)\n",
    "h2 = TH1F(\"myHist2\",\"myTitle\", 64,-4,4)\n",
    "h2.FillRandom(\"gaus\",5000)\n",
    "h2.Draw()\n",
    "c2.Draw()"
   ]
  },
  {
   "cell_type": "code",
   "execution_count": null,
   "id": "3966eb6e-66f3-49bf-ad68-8f4a73b3dec4",
   "metadata": {},
   "outputs": [],
   "source": []
  }
 ],
 "metadata": {
  "kernelspec": {
   "display_name": "Python (ROOT)",
   "language": "python",
   "name": "root_conda_base"
  },
  "language_info": {
   "codemirror_mode": {
    "name": "ipython",
    "version": 3
   },
   "file_extension": ".py",
   "mimetype": "text/x-python",
   "name": "python",
   "nbconvert_exporter": "python",
   "pygments_lexer": "ipython3",
   "version": "3.9.6"
  }
 },
 "nbformat": 4,
 "nbformat_minor": 5
}
